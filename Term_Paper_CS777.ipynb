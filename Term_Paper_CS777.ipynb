{
 "cells": [
  {
   "cell_type": "code",
   "execution_count": 1,
   "id": "fc4edeac",
   "metadata": {},
   "outputs": [],
   "source": [
    "import pyspark\n",
    "from pyspark.sql import SparkSession\n",
    "from pyspark.sql.types import *\n",
    "from pyspark.sql.functions import *\n",
    "\n",
    "spark = SparkSession\\\n",
    "      .builder\\\n",
    "      .master('local[2]')\\\n",
    "      .appName('quake_etl')\\\n",
    "      .config('spark.jars.packages', 'org.mongodb.spark:mongo-spark-connector_2.12:2.4.1')\\\n",
    "      .getOrCreate()"
   ]
  },
  {
   "cell_type": "code",
   "execution_count": 2,
   "id": "ace56c26",
   "metadata": {},
   "outputs": [
    {
     "data": {
      "text/plain": [
       "[Row(Date='01/02/1965', Time='13:44:18', Latitude='19.246', Longitude='145.616', Type='Earthquake', Depth='131.6', Depth Error=None, Depth Seismic Stations=None, Magnitude='6', Magnitude Type='MW', Magnitude Error=None, Magnitude Seismic Stations=None, Azimuthal Gap=None, Horizontal Distance=None, Horizontal Error=None, Root Mean Square=None, ID='ISCGEM860706', Source='ISCGEM', Location Source='ISCGEM', Magnitude Source='ISCGEM', Status='Automatic')]"
      ]
     },
     "execution_count": 2,
     "metadata": {},
     "output_type": "execute_result"
    }
   ],
   "source": [
    "df_load = spark.read.csv(r'database.csv', header=True)\n",
    "\n",
    "df_load.take(1)"
   ]
  },
  {
   "cell_type": "code",
   "execution_count": 3,
   "id": "d444b806",
   "metadata": {},
   "outputs": [],
   "source": [
    "lst_dropped_columns = ['Depth Error', 'Time', 'Depth Seismic Stations', 'Magnitude Error',\n",
    "                       'Magnitude Seismic Stations', 'Azimuthal Gap', 'Root Mean Square', 'Source', 'Location Source', 'Magnitude Source', 'Status']\n",
    "\n",
    "df_load = df_load.drop(*lst_dropped_columns)"
   ]
  },
  {
   "cell_type": "code",
   "execution_count": 4,
   "id": "1d79cb70",
   "metadata": {},
   "outputs": [
    {
     "name": "stdout",
     "output_type": "stream",
     "text": [
      "+----------+--------+---------+----------+-----+---------+--------------+-------------------+----------------+------------+----+\n",
      "|      Date|Latitude|Longitude|      Type|Depth|Magnitude|Magnitude Type|Horizontal Distance|Horizontal Error|          ID|Year|\n",
      "+----------+--------+---------+----------+-----+---------+--------------+-------------------+----------------+------------+----+\n",
      "|01/02/1965|  19.246|  145.616|Earthquake|131.6|        6|            MW|               null|            null|ISCGEM860706|1965|\n",
      "|01/04/1965|   1.863|  127.352|Earthquake|   80|      5.8|            MW|               null|            null|ISCGEM860737|1965|\n",
      "|01/05/1965| -20.579| -173.972|Earthquake|   20|      6.2|            MW|               null|            null|ISCGEM860762|1965|\n",
      "|01/08/1965| -59.076|  -23.557|Earthquake|   15|      5.8|            MW|               null|            null|ISCGEM860856|1965|\n",
      "|01/09/1965|  11.938|  126.427|Earthquake|   15|      5.8|            MW|               null|            null|ISCGEM860890|1965|\n",
      "+----------+--------+---------+----------+-----+---------+--------------+-------------------+----------------+------------+----+\n",
      "only showing top 5 rows\n",
      "\n"
     ]
    }
   ],
   "source": [
    "df_load = df_load.withColumn('Year', year(to_timestamp('Date', 'dd/MM/yyyy')))\n",
    "df_load.show(5)"
   ]
  },
  {
   "cell_type": "code",
   "execution_count": 5,
   "id": "5d038546",
   "metadata": {},
   "outputs": [
    {
     "name": "stdout",
     "output_type": "stream",
     "text": [
      "+----+-----+\n",
      "|Year|count|\n",
      "+----+-----+\n",
      "|1990|  196|\n",
      "|1975|  150|\n",
      "|1977|  148|\n",
      "|2003|  187|\n",
      "|2007|  211|\n",
      "+----+-----+\n",
      "only showing top 5 rows\n",
      "\n"
     ]
    }
   ],
   "source": [
    "df_quake_freq = df_load.groupBy('Year').count()\n",
    "df_quake_freq.show(5)"
   ]
  },
  {
   "cell_type": "code",
   "execution_count": 6,
   "id": "1e632dab",
   "metadata": {},
   "outputs": [
    {
     "name": "stdout",
     "output_type": "stream",
     "text": [
      "root\n",
      " |-- Date: string (nullable = true)\n",
      " |-- Latitude: string (nullable = true)\n",
      " |-- Longitude: string (nullable = true)\n",
      " |-- Type: string (nullable = true)\n",
      " |-- Depth: string (nullable = true)\n",
      " |-- Magnitude: string (nullable = true)\n",
      " |-- Magnitude Type: string (nullable = true)\n",
      " |-- Horizontal Distance: string (nullable = true)\n",
      " |-- Horizontal Error: string (nullable = true)\n",
      " |-- ID: string (nullable = true)\n",
      " |-- Year: integer (nullable = true)\n",
      "\n"
     ]
    }
   ],
   "source": [
    "df_load.printSchema()"
   ]
  },
  {
   "cell_type": "code",
   "execution_count": 7,
   "id": "774f80fb",
   "metadata": {},
   "outputs": [
    {
     "name": "stdout",
     "output_type": "stream",
     "text": [
      "+----------+--------+---------+----------+-----+---------+--------------+-------------------+----------------+--------------------+----+\n",
      "|      Date|Latitude|Longitude|      Type|Depth|Magnitude|Magnitude Type|Horizontal Distance|Horizontal Error|                  ID|Year|\n",
      "+----------+--------+---------+----------+-----+---------+--------------+-------------------+----------------+--------------------+----+\n",
      "|01/02/1965|  19.246|  145.616|Earthquake|131.6|      6.0|            MW|               null|            null|        ISCGEM860706|1965|\n",
      "|01/04/1965|   1.863|  127.352|Earthquake| 80.0|      5.8|            MW|               null|            null|        ISCGEM860737|1965|\n",
      "|01/05/1965| -20.579| -173.972|Earthquake| 20.0|      6.2|            MW|               null|            null|        ISCGEM860762|1965|\n",
      "|01/08/1965| -59.076|  -23.557|Earthquake| 15.0|      5.8|            MW|               null|            null|        ISCGEM860856|1965|\n",
      "|01/09/1965|  11.938|  126.427|Earthquake| 15.0|      5.8|            MW|               null|            null|        ISCGEM860890|1965|\n",
      "|01/10/1965| -13.405|  166.629|Earthquake| 35.0|      6.7|            MW|               null|            null|        ISCGEM860922|1965|\n",
      "|01/12/1965|  27.357|   87.867|Earthquake| 20.0|      5.9|            MW|               null|            null|        ISCGEM861007|1965|\n",
      "|01/15/1965| -13.309|  166.212|Earthquake| 35.0|      6.0|            MW|               null|            null|        ISCGEM861111|null|\n",
      "|01/16/1965| -56.452|  -27.043|Earthquake| 95.0|      6.0|            MW|               null|            null|     ISCGEMSUP861125|null|\n",
      "|01/17/1965| -24.563|  178.487|Earthquake|565.0|      5.8|            MW|               null|            null|        ISCGEM861148|null|\n",
      "|01/17/1965|  -6.807|  108.988|Earthquake|227.9|      5.9|            MW|               null|            null|        ISCGEM861155|null|\n",
      "|01/24/1965|  -2.608|  125.952|Earthquake| 20.0|      8.2|            MW|               null|            null|        ISCGEM861299|null|\n",
      "|01/29/1965|  54.636|  161.703|Earthquake| 55.0|      5.5|            MW|               null|            null|        ISCGEM861461|null|\n",
      "|02/01/1965| -18.697| -177.864|Earthquake|482.9|      5.6|            MW|               null|            null|        ISCGEM859136|1965|\n",
      "|02/02/1965|  37.523|   73.251|Earthquake| 15.0|      6.0|            MW|               null|            null|        ISCGEM859164|1965|\n",
      "|02/04/1965|  -51.84|  139.741|Earthquake| 10.0|      6.1|            MW|               null|            null|        ISCGEM859200|1965|\n",
      "|02/04/1965|  51.251|  178.715|Earthquake| 30.3|      8.7|            MW|               null|            null|OFFICIAL196502040...|1965|\n",
      "|02/04/1965|  51.639|  175.055|Earthquake| 30.0|      6.0|            MW|               null|            null|     ISCGEMSUP859215|1965|\n",
      "|02/04/1965|  52.528|  172.007|Earthquake| 25.0|      5.7|            MW|               null|            null|        ISCGEM859221|1965|\n",
      "|02/04/1965|  51.626|  175.746|Earthquake| 25.0|      5.8|            MW|               null|            null|        ISCGEM859222|1965|\n",
      "+----------+--------+---------+----------+-----+---------+--------------+-------------------+----------------+--------------------+----+\n",
      "only showing top 20 rows\n",
      "\n"
     ]
    }
   ],
   "source": [
    "df_load = df_load.withColumn('Latitude', df_load['Latitude'].cast(DoubleType()))\\\n",
    "      .withColumn('Longitude', df_load['Longitude'].cast(DoubleType()))\\\n",
    "      .withColumn('Depth', df_load['Depth'].cast(DoubleType()))\\\n",
    "      .withColumn('Magnitude', df_load['Magnitude'].cast(DoubleType()))\n",
    "\n",
    "df_load.show()"
   ]
  },
  {
   "cell_type": "code",
   "execution_count": 8,
   "id": "fe860aaa",
   "metadata": {},
   "outputs": [
    {
     "name": "stdout",
     "output_type": "stream",
     "text": [
      "+----+-----------------+\n",
      "|Year|    Avg_Magnitude|\n",
      "+----+-----------------+\n",
      "|1990|5.858163265306125|\n",
      "|1975| 5.84866666666667|\n",
      "|1977|5.757432432432437|\n",
      "|2003|5.850802139037435|\n",
      "|2007| 5.89099526066351|\n",
      "+----+-----------------+\n",
      "only showing top 5 rows\n",
      "\n"
     ]
    }
   ],
   "source": [
    "df_max = df_load.groupBy('Year').max('Magnitude').withColumnRenamed('max(Magnitude)', 'Max_Magnitude')\n",
    "df_avg = df_load.groupBy('Year').avg('Magnitude').withColumnRenamed('avg(Magnitude)', 'Avg_Magnitude')\n",
    "\n",
    "df_avg.show(5)"
   ]
  },
  {
   "cell_type": "code",
   "execution_count": 9,
   "id": "0013b0ac",
   "metadata": {},
   "outputs": [
    {
     "name": "stdout",
     "output_type": "stream",
     "text": [
      "+----+-----+-----------------+-------------+\n",
      "|Year|count|    Avg_Magnitude|Max_Magnitude|\n",
      "+----+-----+-----------------+-------------+\n",
      "|1990|  196|5.858163265306125|          7.6|\n",
      "|1975|  150| 5.84866666666667|          7.8|\n",
      "|1977|  148|5.757432432432437|          7.6|\n",
      "|2003|  187|5.850802139037435|          7.6|\n",
      "|2007|  211| 5.89099526066351|          8.4|\n",
      "+----+-----+-----------------+-------------+\n",
      "only showing top 5 rows\n",
      "\n"
     ]
    }
   ],
   "source": [
    "df_quake_freq = df_quake_freq.join(df_avg, ['Year']).join(df_max, ['Year'])\n",
    "df_quake_freq.show(5)"
   ]
  },
  {
   "cell_type": "code",
   "execution_count": 10,
   "id": "e2f967f3",
   "metadata": {},
   "outputs": [
    {
     "data": {
      "text/plain": [
       "DataFrame[Year: int, count: bigint, Avg_Magnitude: double, Max_Magnitude: double]"
      ]
     },
     "execution_count": 10,
     "metadata": {},
     "output_type": "execute_result"
    }
   ],
   "source": [
    "df_load.dropna()\n",
    "df_quake_freq.dropna()"
   ]
  },
  {
   "cell_type": "code",
   "execution_count": 11,
   "id": "fddb4f4a",
   "metadata": {},
   "outputs": [
    {
     "name": "stdout",
     "output_type": "stream",
     "text": [
      "+----------+--------+---------+----------+-----+---------+--------------+-------------------+----------------+------------+----+\n",
      "|      Date|Latitude|Longitude|      Type|Depth|Magnitude|Magnitude Type|Horizontal Distance|Horizontal Error|          ID|Year|\n",
      "+----------+--------+---------+----------+-----+---------+--------------+-------------------+----------------+------------+----+\n",
      "|01/02/1965|  19.246|  145.616|Earthquake|131.6|      6.0|            MW|               null|            null|ISCGEM860706|1965|\n",
      "|01/04/1965|   1.863|  127.352|Earthquake| 80.0|      5.8|            MW|               null|            null|ISCGEM860737|1965|\n",
      "|01/05/1965| -20.579| -173.972|Earthquake| 20.0|      6.2|            MW|               null|            null|ISCGEM860762|1965|\n",
      "|01/08/1965| -59.076|  -23.557|Earthquake| 15.0|      5.8|            MW|               null|            null|ISCGEM860856|1965|\n",
      "|01/09/1965|  11.938|  126.427|Earthquake| 15.0|      5.8|            MW|               null|            null|ISCGEM860890|1965|\n",
      "+----------+--------+---------+----------+-----+---------+--------------+-------------------+----------------+------------+----+\n",
      "only showing top 5 rows\n",
      "\n"
     ]
    }
   ],
   "source": [
    "df_load.show(5)"
   ]
  },
  {
   "cell_type": "code",
   "execution_count": 12,
   "id": "d0ae0120",
   "metadata": {},
   "outputs": [
    {
     "name": "stdout",
     "output_type": "stream",
     "text": [
      "+----+-----+-----------------+-------------+\n",
      "|Year|count|    Avg_Magnitude|Max_Magnitude|\n",
      "+----+-----+-----------------+-------------+\n",
      "|1990|  196|5.858163265306125|          7.6|\n",
      "|1975|  150| 5.84866666666667|          7.8|\n",
      "|1977|  148|5.757432432432437|          7.6|\n",
      "|2003|  187|5.850802139037435|          7.6|\n",
      "|2007|  211| 5.89099526066351|          8.4|\n",
      "+----+-----+-----------------+-------------+\n",
      "only showing top 5 rows\n",
      "\n"
     ]
    }
   ],
   "source": [
    "df_quake_freq.show(5)"
   ]
  },
  {
   "cell_type": "code",
   "execution_count": 13,
   "id": "c1182f5f",
   "metadata": {},
   "outputs": [],
   "source": [
    "df_load.write.format('mongo')\\\n",
    "    .mode('overwrite')\\\n",
    "    .option('spark.mongodb.output.uri', 'mongodb://127.0.0.1:27017/Quake.quakes').save()"
   ]
  },
  {
   "cell_type": "code",
   "execution_count": 14,
   "id": "0f0332e2",
   "metadata": {},
   "outputs": [],
   "source": [
    "df_quake_freq.write.format('mongo')\\\n",
    "    .mode('overwrite')\\\n",
    "    .option('spark.mongodb.output.uri', 'mongodb://127.0.0.1:27017/Quake.quake_freq').save()"
   ]
  },
  {
   "cell_type": "code",
   "execution_count": 15,
   "id": "8e61a479",
   "metadata": {},
   "outputs": [],
   "source": [
    "#Load test data file"
   ]
  },
  {
   "cell_type": "code",
   "execution_count": 16,
   "id": "88b19f69",
   "metadata": {},
   "outputs": [
    {
     "data": {
      "text/plain": [
       "[Row(time='2017-01-02T00:13:06.300Z', latitude='-36.0365', longitude='51.9288', depth='10', mag='5.7', magType='mwb', nst=None, gap='26', dmin='14.685', rms='1.37', net='us', id='us10007p5d', updated='2017-03-27T23:53:17.040Z', place='Southwest Indian Ridge', type='earthquake', horizontalError='10.3', depthError='1.7', magError='0.068', magNst='21', status='reviewed', locationSource='us', magSource='us')]"
      ]
     },
     "execution_count": 16,
     "metadata": {},
     "output_type": "execute_result"
    }
   ],
   "source": [
    "df_test = spark.read.csv(r'query.csv', header=True)\n",
    "df_test.take(1)"
   ]
  },
  {
   "cell_type": "code",
   "execution_count": 17,
   "id": "e514f5e9",
   "metadata": {},
   "outputs": [
    {
     "name": "stdout",
     "output_type": "stream",
     "text": [
      "+----------+-----+-------------------+----------------+------------+--------+---------+---------+--------------+----------+----+--------------------+\n",
      "|      Date|Depth|Horizontal Distance|Horizontal Error|          ID|Latitude|Longitude|Magnitude|Magnitude Type|      Type|Year|                 _id|\n",
      "+----------+-----+-------------------+----------------+------------+--------+---------+---------+--------------+----------+----+--------------------+\n",
      "|01/02/1965|131.6|               null|            null|ISCGEM860706|  19.246|  145.616|      6.0|            MW|Earthquake|1965|{653c3e513f6d7a60...|\n",
      "|01/04/1965| 80.0|               null|            null|ISCGEM860737|   1.863|  127.352|      5.8|            MW|Earthquake|1965|{653c3e513f6d7a60...|\n",
      "|01/05/1965| 20.0|               null|            null|ISCGEM860762| -20.579| -173.972|      6.2|            MW|Earthquake|1965|{653c3e513f6d7a60...|\n",
      "|01/08/1965| 15.0|               null|            null|ISCGEM860856| -59.076|  -23.557|      5.8|            MW|Earthquake|1965|{653c3e513f6d7a60...|\n",
      "|01/09/1965| 15.0|               null|            null|ISCGEM860890|  11.938|  126.427|      5.8|            MW|Earthquake|1965|{653c3e513f6d7a60...|\n",
      "+----------+-----+-------------------+----------------+------------+--------+---------+---------+--------------+----------+----+--------------------+\n",
      "only showing top 5 rows\n",
      "\n"
     ]
    }
   ],
   "source": [
    "df_train = spark.read.format('mongo')\\\n",
    "    .option('spark.mongodb.input.uri', 'mongodb://127.0.0.1:27017/Quake.quakes').load()\n",
    "\n",
    "df_train.show(5)"
   ]
  },
  {
   "cell_type": "code",
   "execution_count": 18,
   "id": "39410b1e",
   "metadata": {},
   "outputs": [
    {
     "name": "stdout",
     "output_type": "stream",
     "text": [
      "+--------------------+--------+---------+---+------+\n",
      "|                time|latitude|longitude|mag| depth|\n",
      "+--------------------+--------+---------+---+------+\n",
      "|2017-01-02T00:13:...|-36.0365|  51.9288|5.7|    10|\n",
      "|2017-01-02T13:13:...|  -4.895| -76.3675|5.9|   106|\n",
      "|2017-01-02T13:14:...|-23.2513| 179.2383|6.3|551.62|\n",
      "|2017-01-03T09:09:...| 24.0151|  92.0177|5.7|    32|\n",
      "|2017-01-03T21:19:...|-43.3527| -74.5017|5.5| 10.26|\n",
      "+--------------------+--------+---------+---+------+\n",
      "only showing top 5 rows\n",
      "\n"
     ]
    }
   ],
   "source": [
    "df_test_clean = df_test['time', 'latitude', 'longitude', 'mag', 'depth']\n",
    "\n",
    "df_test_clean.show(5)"
   ]
  },
  {
   "cell_type": "code",
   "execution_count": 19,
   "id": "2766b859",
   "metadata": {},
   "outputs": [
    {
     "data": {
      "text/plain": [
       "DataFrame[Date: string, Latitude: string, Longitude: string, Magnitude: string, Depth: string]"
      ]
     },
     "execution_count": 19,
     "metadata": {},
     "output_type": "execute_result"
    }
   ],
   "source": [
    "df_test_clean = df_test_clean.withColumnRenamed('time', 'Date')\\\n",
    "    .withColumnRenamed('latitude', 'Latitude')\\\n",
    "    .withColumnRenamed('longitude', 'Longitude')\\\n",
    "    .withColumnRenamed('mag', 'Magnitude')\\\n",
    "    .withColumnRenamed('depth', 'Depth')\n",
    "\n",
    "df_test_clean"
   ]
  },
  {
   "cell_type": "code",
   "execution_count": 20,
   "id": "409bde87",
   "metadata": {},
   "outputs": [
    {
     "name": "stdout",
     "output_type": "stream",
     "text": [
      "+--------------------+--------+---------+---------+------+\n",
      "|                Date|Latitude|Longitude|Magnitude| Depth|\n",
      "+--------------------+--------+---------+---------+------+\n",
      "|2017-01-02T00:13:...|-36.0365|  51.9288|      5.7|    10|\n",
      "|2017-01-02T13:13:...|  -4.895| -76.3675|      5.9|   106|\n",
      "|2017-01-02T13:14:...|-23.2513| 179.2383|      6.3|551.62|\n",
      "|2017-01-03T09:09:...| 24.0151|  92.0177|      5.7|    32|\n",
      "|2017-01-03T21:19:...|-43.3527| -74.5017|      5.5| 10.26|\n",
      "+--------------------+--------+---------+---------+------+\n",
      "only showing top 5 rows\n",
      "\n"
     ]
    }
   ],
   "source": [
    "df_test_clean.show(5)"
   ]
  },
  {
   "cell_type": "code",
   "execution_count": 21,
   "id": "9bccb4e0",
   "metadata": {},
   "outputs": [],
   "source": [
    "df_test_clean = df_test_clean.withColumn('Latitude', df_test_clean['Latitude'].cast(DoubleType()))\\\n",
    "    .withColumn('Longitude', df_test_clean['Longitude'].cast(DoubleType()))\\\n",
    "    .withColumn('Depth', df_test_clean['Depth'].cast(DoubleType()))\\\n",
    "    .withColumn('Magnitude', df_test_clean['Magnitude'].cast(DoubleType()))"
   ]
  },
  {
   "cell_type": "code",
   "execution_count": 22,
   "id": "c94c4cc7",
   "metadata": {},
   "outputs": [
    {
     "name": "stdout",
     "output_type": "stream",
     "text": [
      "root\n",
      " |-- Date: string (nullable = true)\n",
      " |-- Latitude: double (nullable = true)\n",
      " |-- Longitude: double (nullable = true)\n",
      " |-- Magnitude: double (nullable = true)\n",
      " |-- Depth: double (nullable = true)\n",
      "\n"
     ]
    }
   ],
   "source": [
    "df_test_clean.printSchema()"
   ]
  },
  {
   "cell_type": "code",
   "execution_count": 23,
   "id": "bb3b5208",
   "metadata": {},
   "outputs": [],
   "source": [
    "df_testing = df_test_clean['Latitude', 'Longitude', 'Magnitude', 'Depth']\n",
    "df_training = df_train['Latitude', 'Longitude', 'Magnitude', 'Depth']"
   ]
  },
  {
   "cell_type": "code",
   "execution_count": 24,
   "id": "70657aa0",
   "metadata": {},
   "outputs": [
    {
     "name": "stdout",
     "output_type": "stream",
     "text": [
      "+--------+---------+---------+-----+\n",
      "|Latitude|Longitude|Magnitude|Depth|\n",
      "+--------+---------+---------+-----+\n",
      "|  19.246|  145.616|      6.0|131.6|\n",
      "|   1.863|  127.352|      5.8| 80.0|\n",
      "| -20.579| -173.972|      6.2| 20.0|\n",
      "| -59.076|  -23.557|      5.8| 15.0|\n",
      "|  11.938|  126.427|      5.8| 15.0|\n",
      "| -13.405|  166.629|      6.7| 35.0|\n",
      "|  27.357|   87.867|      5.9| 20.0|\n",
      "| -13.309|  166.212|      6.0| 35.0|\n",
      "| -56.452|  -27.043|      6.0| 95.0|\n",
      "| -24.563|  178.487|      5.8|565.0|\n",
      "|  -6.807|  108.988|      5.9|227.9|\n",
      "|  -2.608|  125.952|      8.2| 20.0|\n",
      "|  54.636|  161.703|      5.5| 55.0|\n",
      "| -18.697| -177.864|      5.6|482.9|\n",
      "|  37.523|   73.251|      6.0| 15.0|\n",
      "|  -51.84|  139.741|      6.1| 10.0|\n",
      "|  51.251|  178.715|      8.7| 30.3|\n",
      "|  51.639|  175.055|      6.0| 30.0|\n",
      "|  52.528|  172.007|      5.7| 25.0|\n",
      "|  51.626|  175.746|      5.8| 25.0|\n",
      "+--------+---------+---------+-----+\n",
      "only showing top 20 rows\n",
      "\n"
     ]
    }
   ],
   "source": [
    "df_training.show()"
   ]
  },
  {
   "cell_type": "code",
   "execution_count": 25,
   "id": "e6b2d812",
   "metadata": {},
   "outputs": [],
   "source": [
    "df_testing = df_testing.dropna()\n",
    "df_training = df_training.dropna()"
   ]
  },
  {
   "cell_type": "code",
   "execution_count": 26,
   "id": "26016e0a",
   "metadata": {},
   "outputs": [],
   "source": [
    "from pyspark.ml import Pipeline\n",
    "from pyspark.ml.regression import RandomForestRegressor\n",
    "from pyspark.ml.feature import VectorAssembler\n",
    "from pyspark.ml.evaluation import RegressionEvaluator"
   ]
  },
  {
   "cell_type": "code",
   "execution_count": 28,
   "id": "9e28203e",
   "metadata": {},
   "outputs": [],
   "source": [
    "assembler = VectorAssembler(inputCols=['Latitude', 'Longitude', 'Depth'], outputCol='features')\n",
    "\n",
    "model_reg = RandomForestRegressor(featuresCol='features', labelCol='Magnitude')\n",
    "\n",
    "pipeline = Pipeline(stages=[assembler, model_reg])\n",
    "\n",
    "model = pipeline.fit(df_training)\n",
    "\n",
    "pred_results = model.transform(df_testing)"
   ]
  },
  {
   "cell_type": "code",
   "execution_count": 29,
   "id": "64da99b2",
   "metadata": {},
   "outputs": [
    {
     "name": "stdout",
     "output_type": "stream",
     "text": [
      "+--------+---------+---------+------+--------------------+------------------+\n",
      "|Latitude|Longitude|Magnitude| Depth|            features|        prediction|\n",
      "+--------+---------+---------+------+--------------------+------------------+\n",
      "|-36.0365|  51.9288|      5.7|  10.0|[-36.0365,51.9288...| 5.810108702452941|\n",
      "|  -4.895| -76.3675|      5.9| 106.0|[-4.895,-76.3675,...| 5.884911777098706|\n",
      "|-23.2513| 179.2383|      6.3|551.62|[-23.2513,179.238...| 5.931782846758473|\n",
      "| 24.0151|  92.0177|      5.7|  32.0|[24.0151,92.0177,...|5.9074022011071445|\n",
      "|-43.3527| -74.5017|      5.5| 10.26|[-43.3527,-74.501...|   5.9639844941963|\n",
      "+--------+---------+---------+------+--------------------+------------------+\n",
      "only showing top 5 rows\n",
      "\n"
     ]
    }
   ],
   "source": [
    "pred_results.show(5)"
   ]
  },
  {
   "cell_type": "code",
   "execution_count": 30,
   "id": "ed920ee1",
   "metadata": {},
   "outputs": [
    {
     "name": "stdout",
     "output_type": "stream",
     "text": [
      "Root Mean Squared Error (RMSE) on test data = 0.402263\n"
     ]
    }
   ],
   "source": [
    "evaluator = RegressionEvaluator(labelCol = 'Magnitude', predictionCol='prediction', metricName='rmse')\n",
    "rmse = evaluator.evaluate(pred_results)\n",
    "print('Root Mean Squared Error (RMSE) on test data = %g' % rmse)"
   ]
  },
  {
   "cell_type": "code",
   "execution_count": 31,
   "id": "22fc278a",
   "metadata": {},
   "outputs": [
    {
     "name": "stdout",
     "output_type": "stream",
     "text": [
      "+--------+---------+------------------+----+-------------------+\n",
      "|Latitude|Longitude|    Pred_Magnitude|Year|               RMSE|\n",
      "+--------+---------+------------------+----+-------------------+\n",
      "|-36.0365|  51.9288| 5.810108702452941|2017|0.40226316031287257|\n",
      "|  -4.895| -76.3675| 5.884911777098706|2017|0.40226316031287257|\n",
      "|-23.2513| 179.2383| 5.931782846758473|2017|0.40226316031287257|\n",
      "| 24.0151|  92.0177|5.9074022011071445|2017|0.40226316031287257|\n",
      "|-43.3527| -74.5017|   5.9639844941963|2017|0.40226316031287257|\n",
      "+--------+---------+------------------+----+-------------------+\n",
      "only showing top 5 rows\n",
      "\n"
     ]
    }
   ],
   "source": [
    "df_pred_results = pred_results['Latitude', 'Longitude', 'prediction']\n",
    "\n",
    "df_pred_results = df_pred_results.withColumnRenamed('prediction', 'Pred_Magnitude')\n",
    "\n",
    "df_pred_results = df_pred_results.withColumn('Year', lit(2017))\\\n",
    "    .withColumn('RMSE', lit(rmse))\n",
    "\n",
    "df_pred_results.show(5)"
   ]
  },
  {
   "cell_type": "code",
   "execution_count": 33,
   "id": "724977a2",
   "metadata": {},
   "outputs": [],
   "source": [
    "df_pred_results.write.format('mongo')\\\n",
    "    .mode('overwrite')\\\n",
    "    .option('spark.mongodb.output.uri', 'mongodb://127.0.0.1:27017/Quake.pred_results').save()"
   ]
  },
  {
   "cell_type": "code",
   "execution_count": null,
   "id": "3da039a4",
   "metadata": {},
   "outputs": [],
   "source": []
  }
 ],
 "metadata": {
  "kernelspec": {
   "display_name": "Python 3 (ipykernel)",
   "language": "python",
   "name": "python3"
  },
  "language_info": {
   "codemirror_mode": {
    "name": "ipython",
    "version": 3
   },
   "file_extension": ".py",
   "mimetype": "text/x-python",
   "name": "python",
   "nbconvert_exporter": "python",
   "pygments_lexer": "ipython3",
   "version": "3.9.12"
  }
 },
 "nbformat": 4,
 "nbformat_minor": 5
}
